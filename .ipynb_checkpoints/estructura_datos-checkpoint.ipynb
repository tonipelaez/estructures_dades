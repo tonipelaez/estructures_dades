{
 "cells": [
  {
   "cell_type": "markdown",
   "id": "1fd6c219",
   "metadata": {},
   "source": [
    "## Exercici 1\n",
    "\n",
    "Crea una llista que agrupi els mesos de l’any en trimestres (1T: Gener, Febrer i Març, 2T: Abril, Maig, Juny...), és a dir, una llista amb 4 llistes dins.\n"
   ]
  },
  {
   "cell_type": "code",
   "execution_count": 10,
   "id": "505c49fb",
   "metadata": {},
   "outputs": [],
   "source": [
    "_1t=[\"Enero\",\"Febrero\",\"Marzo\"]\n",
    "_2t=[\"Abril\",\"Mayo\",\"Junio\"]\n",
    "_3t=[\"Julio\",\"Agosto\",\"Septiembre\"]\n",
    "_4t=[\"Octubre\",\"Noviembre\",\"Diciembre\"]\n",
    "\n",
    "anual=[_1t,_2t,_3t,_4t]"
   ]
  },
  {
   "cell_type": "markdown",
   "id": "c0476d28",
   "metadata": {},
   "source": [
    " ## Exercici 2\n",
    "\n",
    "Crea un codi que et permeti accedir a:\n",
    "\n",
    "   - El segon mes del primer trimestre\n",
    "    \n",
    "   \n"
   ]
  },
  {
   "cell_type": "code",
   "execution_count": 2,
   "id": "2a665b36",
   "metadata": {
    "scrolled": true
   },
   "outputs": [
    {
     "name": "stdout",
     "output_type": "stream",
     "text": [
      "Febrero\n"
     ]
    }
   ],
   "source": [
    "print(anual[0][1])"
   ]
  },
  {
   "cell_type": "markdown",
   "id": "38301323",
   "metadata": {},
   "source": [
    "- Els mesos del primer trimestre"
   ]
  },
  {
   "cell_type": "code",
   "execution_count": 12,
   "id": "78aa7c2a",
   "metadata": {},
   "outputs": [
    {
     "name": "stdout",
     "output_type": "stream",
     "text": [
      "Enero\n",
      "Febrero\n",
      "Marzo\n"
     ]
    }
   ],
   "source": [
    "for mes in anual[0]:\n",
    "    print(mes)"
   ]
  },
  {
   "cell_type": "markdown",
   "id": "55ba2291",
   "metadata": {},
   "source": [
    " - Setembre i octubre"
   ]
  },
  {
   "cell_type": "code",
   "execution_count": 4,
   "id": "e7bc27d4",
   "metadata": {},
   "outputs": [
    {
     "name": "stdout",
     "output_type": "stream",
     "text": [
      "Septiembre Octubre\n"
     ]
    }
   ],
   "source": [
    "print(anual[2][2],anual[3][0])\n"
   ]
  },
  {
   "cell_type": "markdown",
   "id": "68659a7d",
   "metadata": {},
   "source": [
    "## Exercici 3\n",
    "\n",
    "Crea una llista amb nombres desordenats i respon a les següents preguntes"
   ]
  },
  {
   "cell_type": "code",
   "execution_count": 1,
   "id": "528effef",
   "metadata": {},
   "outputs": [],
   "source": [
    "numeros=[3,5,3,7,323,65,12,45,7,45,2,65,45,8,34,23,2,4,5,23,67,8,34,23]"
   ]
  },
  {
   "cell_type": "markdown",
   "id": "4c038be0",
   "metadata": {},
   "source": [
    "- Quants números hi ha"
   ]
  },
  {
   "cell_type": "code",
   "execution_count": 6,
   "id": "340d4846",
   "metadata": {},
   "outputs": [
    {
     "name": "stdout",
     "output_type": "stream",
     "text": [
      "24\n"
     ]
    }
   ],
   "source": [
    "print(len(numeros))"
   ]
  },
  {
   "cell_type": "markdown",
   "id": "03de41f9",
   "metadata": {},
   "source": [
    " - Quantes vegades apareix el número 3"
   ]
  },
  {
   "cell_type": "code",
   "execution_count": 7,
   "id": "d130a446",
   "metadata": {},
   "outputs": [
    {
     "name": "stdout",
     "output_type": "stream",
     "text": [
      "2\n"
     ]
    }
   ],
   "source": [
    "print(numeros.count(3))"
   ]
  },
  {
   "cell_type": "markdown",
   "id": "ff82b648",
   "metadata": {},
   "source": [
    "- Quantes vegades apareixen els nombres 3 i 4?"
   ]
  },
  {
   "cell_type": "code",
   "execution_count": 10,
   "id": "58cbfca4",
   "metadata": {},
   "outputs": [
    {
     "name": "stdout",
     "output_type": "stream",
     "text": [
      "3\n"
     ]
    }
   ],
   "source": [
    "print(numeros.count(3)+numeros.count(4))"
   ]
  },
  {
   "cell_type": "markdown",
   "id": "e3dcac34",
   "metadata": {},
   "source": [
    "- Quin és el número més gran?"
   ]
  },
  {
   "cell_type": "code",
   "execution_count": 2,
   "id": "8c639c16",
   "metadata": {},
   "outputs": [
    {
     "name": "stdout",
     "output_type": "stream",
     "text": [
      "323\n"
     ]
    }
   ],
   "source": [
    "numeros.sort()\n",
    "print(numeros[-1])"
   ]
  },
  {
   "cell_type": "markdown",
   "id": "f1fc1a06",
   "metadata": {},
   "source": [
    " - Quins són els 3 números més petits?"
   ]
  },
  {
   "cell_type": "code",
   "execution_count": 16,
   "id": "bab83e36",
   "metadata": {},
   "outputs": [
    {
     "name": "stdout",
     "output_type": "stream",
     "text": [
      "[2, 2, 3]\n"
     ]
    }
   ],
   "source": [
    "print(numeros[0:3])"
   ]
  },
  {
   "cell_type": "markdown",
   "id": "b3c39ad6",
   "metadata": {},
   "source": [
    "  - Quin és el rang d’aquesta llista?"
   ]
  },
  {
   "cell_type": "code",
   "execution_count": 9,
   "id": "a022ddcf",
   "metadata": {},
   "outputs": [
    {
     "name": "stdout",
     "output_type": "stream",
     "text": [
      "El rango en la lista va desde 2 hasta 323\n"
     ]
    }
   ],
   "source": [
    "print(\"El rango en la lista va desde \"+str(numeros[0])+ \" hasta \"+str(numeros[-1]))"
   ]
  },
  {
   "cell_type": "markdown",
   "id": "b5d68f34",
   "metadata": {},
   "source": [
    "## Exercici 4\n",
    "\n",
    "Crea un diccionari de la següent forma i respon a les preguntes:\n",
    "\n",
    "compra = { \"Pomes\" : {\"Qty\": 5, \"€\": 0.42}, \"Peres\" : {\"Qty\": 3, \"€\": 0.66} }"
   ]
  },
  {
   "cell_type": "code",
   "execution_count": 49,
   "id": "b531fc45",
   "metadata": {},
   "outputs": [],
   "source": [
    "compra = { \"Pomes\" : {\"Qty\": 5, \"€\": 0.42}, \"Peres\" : {\"Qty\": 3, \"€\": 0.66} }"
   ]
  },
  {
   "cell_type": "markdown",
   "id": "32e30430",
   "metadata": {},
   "source": [
    "\n",
    "    Afegeix alguna fruita més"
   ]
  },
  {
   "cell_type": "code",
   "execution_count": 50,
   "id": "0b8f30a7",
   "metadata": {},
   "outputs": [
    {
     "name": "stdout",
     "output_type": "stream",
     "text": [
      "{'Pomes': {'Qty': 5, '€': 1.42}, 'Peres': {'Qty': 3, '€': 0.66}, 'manzanas': {'Qty': 8, '€': 0.9}}\n"
     ]
    }
   ],
   "source": [
    "manzanas={\"Qty\": 8,\"€\": 0.90}\n",
    "compra.update({\"manzanas\":manzanas})\n",
    "print(compra)"
   ]
  },
  {
   "cell_type": "markdown",
   "id": "ee4d99fe",
   "metadata": {},
   "source": [
    " Quant han costat les peres en total?"
   ]
  },
  {
   "cell_type": "code",
   "execution_count": 45,
   "id": "4040e4ba",
   "metadata": {},
   "outputs": [
    {
     "name": "stdout",
     "output_type": "stream",
     "text": [
      "1.98€\n"
     ]
    }
   ],
   "source": [
    "print(str((compra[\"Peres\"][\"Qty\"])*(compra[\"Peres\"][\"€\"]))+\"€\")\n"
   ]
  },
  {
   "cell_type": "markdown",
   "id": "d71232e7",
   "metadata": {},
   "source": [
    "Quantes fruites hem comprat en total?"
   ]
  },
  {
   "cell_type": "code",
   "execution_count": 43,
   "id": "16191b4b",
   "metadata": {},
   "outputs": [
    {
     "name": "stdout",
     "output_type": "stream",
     "text": [
      "16\n"
     ]
    }
   ],
   "source": [
    "sum=0\n",
    "for frutas in compra:\n",
    "    sum+=(compra[frutas][\"Qty\"])\n",
    "print(sum)"
   ]
  },
  {
   "cell_type": "markdown",
   "id": "6db349f0",
   "metadata": {},
   "source": [
    "Quina és la fruita més cara?"
   ]
  },
  {
   "cell_type": "code",
   "execution_count": 51,
   "id": "5be13fee",
   "metadata": {},
   "outputs": [
    {
     "name": "stdout",
     "output_type": "stream",
     "text": [
      "Lo más caro son las Pomes\n"
     ]
    }
   ],
   "source": [
    "coste=0\n",
    "caro=\"unos pocos euros\"\n",
    "for frutas in compra:\n",
    "    if compra[frutas][\"€\"]>coste:\n",
    "        coste=compra[frutas][\"€\"]\n",
    "        caro=frutas\n",
    "\n",
    "print(\"Lo más caro son las \"+caro)\n",
    "\n"
   ]
  }
 ],
 "metadata": {
  "hide_input": false,
  "kernelspec": {
   "display_name": "Python 3",
   "language": "python",
   "name": "python3"
  },
  "language_info": {
   "codemirror_mode": {
    "name": "ipython",
    "version": 3
   },
   "file_extension": ".py",
   "mimetype": "text/x-python",
   "name": "python",
   "nbconvert_exporter": "python",
   "pygments_lexer": "ipython3",
   "version": "3.9.7"
  },
  "toc": {
   "base_numbering": 1,
   "nav_menu": {},
   "number_sections": true,
   "sideBar": true,
   "skip_h1_title": false,
   "title_cell": "Table of Contents",
   "title_sidebar": "Contents",
   "toc_cell": false,
   "toc_position": {},
   "toc_section_display": true,
   "toc_window_display": false
  },
  "varInspector": {
   "cols": {
    "lenName": 16,
    "lenType": 16,
    "lenVar": 40
   },
   "kernels_config": {
    "python": {
     "delete_cmd_postfix": "",
     "delete_cmd_prefix": "del ",
     "library": "var_list.py",
     "varRefreshCmd": "print(var_dic_list())"
    },
    "r": {
     "delete_cmd_postfix": ") ",
     "delete_cmd_prefix": "rm(",
     "library": "var_list.r",
     "varRefreshCmd": "cat(var_dic_list()) "
    }
   },
   "types_to_exclude": [
    "module",
    "function",
    "builtin_function_or_method",
    "instance",
    "_Feature"
   ],
   "window_display": false
  }
 },
 "nbformat": 4,
 "nbformat_minor": 5
}
